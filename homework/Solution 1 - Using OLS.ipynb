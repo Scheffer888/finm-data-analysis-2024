{
 "cells": [
  {
   "cell_type": "markdown",
   "id": "ce9737a3",
   "metadata": {},
   "source": [
    "# Solution 1 - Using OLS\n",
    "## Data Analysis\n",
    "### FINM August Review \n",
    "\n",
    "Mark Hendricks\n",
    "\n",
    "hendricks@uchicago.edu"
   ]
  },
  {
   "cell_type": "markdown",
   "id": "1ff90b93",
   "metadata": {},
   "source": [
    "$$\\newcommand{\\spy}{\\text{spy}}$$\n",
    "$$\\newcommand{\\hyg}{\\text{hyg}}$$\n",
    "\n",
    "# Data\n",
    "* This homework uses the file, `data/multi_asset_etf_data.xlsx`.\n",
    "* Find the data in the Github repo associated with the module, (link on Canvas.)\n",
    "\n",
    "The data file contains...\n",
    "* Return rates, $r_t^i$, for various asset classes, (via ETFs.)\n",
    "* Most notable among these securities is SPY, the return on the S&P 500. Denote this as $r^{\\spy}_t$.\n",
    "* A separate tab gives return rates for a particular portfolio, $r_t^p$."
   ]
  },
  {
   "cell_type": "markdown",
   "id": "3d6742cb",
   "metadata": {},
   "source": [
    "# 1. Regression\n",
    "## 1. \n",
    "Estimate the regression of the portfolio return on SPY:\n",
    "\n",
    "$$r^p_t = \\alpha + \\beta r^{\\spy}_t + \\epsilon_t^{p,\\spy}$$\n",
    "\n",
    "Specifically, report your estimates of alpha, beta, and the r-squared.\n",
    "\n",
    "## 2. \n",
    "Estimate the regression of the portfolio return on SPY and on HYG, the return on high-yield\n",
    "corporate bonds, denoted as $r^{\\hyg}_t$:\n",
    "\n",
    "$$r^p_t = {\\alpha} + {\\beta}^{\\spy}r^{\\spy}_t + {\\beta}^{\\hyg}r^{\\hyg}_t + {\\epsilon}_t$$\n",
    "\n",
    "Specifically, report your estimates of alpha, the betas, and the r-squared.\n",
    "\n",
    "*Note that the parameters (such as $\\beta^{\\spy}$) in this multivariate model are not the same as used in the univariate model of part 1. \n",
    "\n",
    "## 3. \n",
    "Calculate the series of fitted regression values, sometimes referred to as $\\hat{y}$ in standard textbooks:\n",
    "\n",
    "$$\\hat{r}^p_t = \\hat{\\alpha} + \\hat{\\beta}^{\\spy}r^{\\spy}_t + \\hat{\\beta}^{\\hyg}r^{\\hyg}_t$$\n",
    "\n",
    "Your statistical package will output these fitted values for you, or you can construct them using the estimated parameters.\n",
    "\n",
    "How does this compare to the r-squared of the regression in problem 2?\n",
    "\n",
    "## 4. \n",
    "How do the SPY betas differ across the univariate and multivariate models? How does this relate to the\n",
    "correlation between $r^{\\spy}$ and $r^{\\hyg}$?\n",
    "\n",
    "## 5. \n",
    "Without doing any calculation, would you expect the sample residual of the univariate regression or multivariate regression to have higher correlation to $r^{\\hyg}$?"
   ]
  },
  {
   "cell_type": "markdown",
   "id": "df231a80",
   "metadata": {},
   "source": [
    "# <span style='color:red'>Solution 1</span>"
   ]
  },
  {
   "cell_type": "code",
   "execution_count": 4,
   "id": "64999593",
   "metadata": {
    "ExecuteTime": {
     "end_time": "2021-06-24T01:37:08.632979Z",
     "start_time": "2021-06-24T01:37:08.625990Z"
    },
    "jupyter": {
     "source_hidden": true
    }
   },
   "outputs": [],
   "source": [
    "import pandas as pd\n",
    "import numpy as np\n",
    "import statsmodels.api as sm\n",
    "from sklearn.linear_model import LinearRegression\n",
    "from matplotlib import pyplot as plt\n",
    "import os"
   ]
  },
  {
   "cell_type": "code",
   "execution_count": 5,
   "id": "0b8bb30e",
   "metadata": {
    "jupyter": {
     "source_hidden": true
    }
   },
   "outputs": [
    {
     "data": {
      "text/html": [
       "<div>\n",
       "<style scoped>\n",
       "    .dataframe tbody tr th:only-of-type {\n",
       "        vertical-align: middle;\n",
       "    }\n",
       "\n",
       "    .dataframe tbody tr th {\n",
       "        vertical-align: top;\n",
       "    }\n",
       "\n",
       "    .dataframe thead th {\n",
       "        text-align: right;\n",
       "    }\n",
       "</style>\n",
       "<table border=\"1\" class=\"dataframe\">\n",
       "  <thead>\n",
       "    <tr style=\"text-align: right;\">\n",
       "      <th></th>\n",
       "      <th>shortName</th>\n",
       "      <th>quoteType</th>\n",
       "      <th>currency</th>\n",
       "      <th>volume</th>\n",
       "      <th>totalAssets</th>\n",
       "      <th>longBusinessSummary</th>\n",
       "    </tr>\n",
       "    <tr>\n",
       "      <th>ticker</th>\n",
       "      <th></th>\n",
       "      <th></th>\n",
       "      <th></th>\n",
       "      <th></th>\n",
       "      <th></th>\n",
       "      <th></th>\n",
       "    </tr>\n",
       "  </thead>\n",
       "  <tbody>\n",
       "    <tr>\n",
       "      <th>SPY</th>\n",
       "      <td>SPDR S&amp;P 500</td>\n",
       "      <td>ETF</td>\n",
       "      <td>USD</td>\n",
       "      <td>31915489</td>\n",
       "      <td>533350318080</td>\n",
       "      <td>The Trust seeks to achieve its investment obje...</td>\n",
       "    </tr>\n",
       "    <tr>\n",
       "      <th>EFA</th>\n",
       "      <td>iShares MSCI EAFE ETF</td>\n",
       "      <td>ETF</td>\n",
       "      <td>USD</td>\n",
       "      <td>14936082</td>\n",
       "      <td>54361296896</td>\n",
       "      <td>The fund generally will invest at least 80% of...</td>\n",
       "    </tr>\n",
       "    <tr>\n",
       "      <th>EEM</th>\n",
       "      <td>iShares MSCI Emerging Index Fun</td>\n",
       "      <td>ETF</td>\n",
       "      <td>USD</td>\n",
       "      <td>18737887</td>\n",
       "      <td>18598756352</td>\n",
       "      <td>The fund generally will invest at least 80% of...</td>\n",
       "    </tr>\n",
       "    <tr>\n",
       "      <th>PSP</th>\n",
       "      <td>Invesco Global Listed Private E</td>\n",
       "      <td>ETF</td>\n",
       "      <td>USD</td>\n",
       "      <td>7955</td>\n",
       "      <td>248697808</td>\n",
       "      <td>The fund generally will invest at least 90% of...</td>\n",
       "    </tr>\n",
       "    <tr>\n",
       "      <th>QAI</th>\n",
       "      <td>IQ Hedge MultiIQ Hedge Multi-St</td>\n",
       "      <td>ETF</td>\n",
       "      <td>USD</td>\n",
       "      <td>48268</td>\n",
       "      <td>560306880</td>\n",
       "      <td>The fund is a \"fund of funds\" which means it i...</td>\n",
       "    </tr>\n",
       "    <tr>\n",
       "      <th>HYG</th>\n",
       "      <td>iShares iBoxx $ High Yield Corp</td>\n",
       "      <td>ETF</td>\n",
       "      <td>USD</td>\n",
       "      <td>51364193</td>\n",
       "      <td>16733312000</td>\n",
       "      <td>The underlying index is a rules-based index co...</td>\n",
       "    </tr>\n",
       "    <tr>\n",
       "      <th>DBC</th>\n",
       "      <td>Invesco DB Commodity Index Trac</td>\n",
       "      <td>ETF</td>\n",
       "      <td>USD</td>\n",
       "      <td>891311</td>\n",
       "      <td>1784920832</td>\n",
       "      <td>The fund pursues its investment objective by i...</td>\n",
       "    </tr>\n",
       "    <tr>\n",
       "      <th>IYR</th>\n",
       "      <td>iShares U.S. Real Estate ETF</td>\n",
       "      <td>ETF</td>\n",
       "      <td>USD</td>\n",
       "      <td>3489431</td>\n",
       "      <td>2901542144</td>\n",
       "      <td>The fund seeks to track the investment results...</td>\n",
       "    </tr>\n",
       "    <tr>\n",
       "      <th>IEF</th>\n",
       "      <td>iShares 7-10 Year Treasury Bond</td>\n",
       "      <td>ETF</td>\n",
       "      <td>USD</td>\n",
       "      <td>5404923</td>\n",
       "      <td>29142607872</td>\n",
       "      <td>The underlying index measures the performance ...</td>\n",
       "    </tr>\n",
       "    <tr>\n",
       "      <th>BWX</th>\n",
       "      <td>SPDR Bloomberg International Tr</td>\n",
       "      <td>ETF</td>\n",
       "      <td>USD</td>\n",
       "      <td>150856</td>\n",
       "      <td>882341184</td>\n",
       "      <td>The fund generally invests substantially all, ...</td>\n",
       "    </tr>\n",
       "    <tr>\n",
       "      <th>TIP</th>\n",
       "      <td>iShares TIPS Bond ETF</td>\n",
       "      <td>ETF</td>\n",
       "      <td>USD</td>\n",
       "      <td>1395331</td>\n",
       "      <td>18260465664</td>\n",
       "      <td>The index tracks the performance of inflation-...</td>\n",
       "    </tr>\n",
       "    <tr>\n",
       "      <th>SHV</th>\n",
       "      <td>iShares Short Treasury Bond ETF</td>\n",
       "      <td>ETF</td>\n",
       "      <td>USD</td>\n",
       "      <td>1725044</td>\n",
       "      <td>19032737792</td>\n",
       "      <td>The fund will invest at least 80% of its asset...</td>\n",
       "    </tr>\n",
       "  </tbody>\n",
       "</table>\n",
       "</div>"
      ],
      "text/plain": [
       "                              shortName quoteType currency    volume  \\\n",
       "ticker                                                                 \n",
       "SPY                        SPDR S&P 500       ETF      USD  31915489   \n",
       "EFA               iShares MSCI EAFE ETF       ETF      USD  14936082   \n",
       "EEM     iShares MSCI Emerging Index Fun       ETF      USD  18737887   \n",
       "PSP     Invesco Global Listed Private E       ETF      USD      7955   \n",
       "QAI     IQ Hedge MultiIQ Hedge Multi-St       ETF      USD     48268   \n",
       "HYG     iShares iBoxx $ High Yield Corp       ETF      USD  51364193   \n",
       "DBC     Invesco DB Commodity Index Trac       ETF      USD    891311   \n",
       "IYR        iShares U.S. Real Estate ETF       ETF      USD   3489431   \n",
       "IEF     iShares 7-10 Year Treasury Bond       ETF      USD   5404923   \n",
       "BWX     SPDR Bloomberg International Tr       ETF      USD    150856   \n",
       "TIP               iShares TIPS Bond ETF       ETF      USD   1395331   \n",
       "SHV     iShares Short Treasury Bond ETF       ETF      USD   1725044   \n",
       "\n",
       "         totalAssets                                longBusinessSummary  \n",
       "ticker                                                                   \n",
       "SPY     533350318080  The Trust seeks to achieve its investment obje...  \n",
       "EFA      54361296896  The fund generally will invest at least 80% of...  \n",
       "EEM      18598756352  The fund generally will invest at least 80% of...  \n",
       "PSP        248697808  The fund generally will invest at least 90% of...  \n",
       "QAI        560306880  The fund is a \"fund of funds\" which means it i...  \n",
       "HYG      16733312000  The underlying index is a rules-based index co...  \n",
       "DBC       1784920832  The fund pursues its investment objective by i...  \n",
       "IYR       2901542144  The fund seeks to track the investment results...  \n",
       "IEF      29142607872  The underlying index measures the performance ...  \n",
       "BWX        882341184  The fund generally invests substantially all, ...  \n",
       "TIP      18260465664  The index tracks the performance of inflation-...  \n",
       "SHV      19032737792  The fund will invest at least 80% of its asset...  "
      ]
     },
     "execution_count": 5,
     "metadata": {},
     "output_type": "execute_result"
    }
   ],
   "source": [
    "INFILE = \"../data/multi_asset_etf_data.xlsx\"\n",
    "\n",
    "info = pd.read_excel(INFILE,sheet_name='info').set_index('ticker')\n",
    "info"
   ]
  },
  {
   "cell_type": "code",
   "execution_count": 7,
   "id": "123bfe0b",
   "metadata": {
    "ExecuteTime": {
     "end_time": "2021-06-24T01:37:08.687141Z",
     "start_time": "2021-06-24T01:37:08.635377Z"
    },
    "jupyter": {
     "source_hidden": true
    }
   },
   "outputs": [
    {
     "data": {
      "text/html": [
       "<div>\n",
       "<style scoped>\n",
       "    .dataframe tbody tr th:only-of-type {\n",
       "        vertical-align: middle;\n",
       "    }\n",
       "\n",
       "    .dataframe tbody tr th {\n",
       "        vertical-align: top;\n",
       "    }\n",
       "\n",
       "    .dataframe thead th {\n",
       "        text-align: right;\n",
       "    }\n",
       "</style>\n",
       "<table border=\"1\" class=\"dataframe\">\n",
       "  <thead>\n",
       "    <tr style=\"text-align: right;\">\n",
       "      <th></th>\n",
       "      <th>SPY</th>\n",
       "      <th>EFA</th>\n",
       "      <th>EEM</th>\n",
       "      <th>PSP</th>\n",
       "      <th>QAI</th>\n",
       "      <th>HYG</th>\n",
       "      <th>DBC</th>\n",
       "      <th>IYR</th>\n",
       "      <th>IEF</th>\n",
       "      <th>BWX</th>\n",
       "      <th>TIP</th>\n",
       "      <th>SHV</th>\n",
       "    </tr>\n",
       "    <tr>\n",
       "      <th>Date</th>\n",
       "      <th></th>\n",
       "      <th></th>\n",
       "      <th></th>\n",
       "      <th></th>\n",
       "      <th></th>\n",
       "      <th></th>\n",
       "      <th></th>\n",
       "      <th></th>\n",
       "      <th></th>\n",
       "      <th></th>\n",
       "      <th></th>\n",
       "      <th></th>\n",
       "    </tr>\n",
       "  </thead>\n",
       "  <tbody>\n",
       "    <tr>\n",
       "      <th>2009-04-30</th>\n",
       "      <td>0.099346</td>\n",
       "      <td>0.115190</td>\n",
       "      <td>0.155582</td>\n",
       "      <td>0.230203</td>\n",
       "      <td>0.022883</td>\n",
       "      <td>0.138460</td>\n",
       "      <td>-0.001000</td>\n",
       "      <td>0.296151</td>\n",
       "      <td>-0.027453</td>\n",
       "      <td>0.008993</td>\n",
       "      <td>-0.017951</td>\n",
       "      <td>0.000553</td>\n",
       "    </tr>\n",
       "    <tr>\n",
       "      <th>2009-05-31</th>\n",
       "      <td>0.058454</td>\n",
       "      <td>0.131918</td>\n",
       "      <td>0.159400</td>\n",
       "      <td>0.053892</td>\n",
       "      <td>0.027865</td>\n",
       "      <td>0.028555</td>\n",
       "      <td>0.162663</td>\n",
       "      <td>0.022728</td>\n",
       "      <td>-0.020773</td>\n",
       "      <td>0.053672</td>\n",
       "      <td>0.019966</td>\n",
       "      <td>-0.000472</td>\n",
       "    </tr>\n",
       "    <tr>\n",
       "      <th>2009-06-30</th>\n",
       "      <td>-0.000655</td>\n",
       "      <td>-0.014049</td>\n",
       "      <td>-0.022495</td>\n",
       "      <td>0.045449</td>\n",
       "      <td>-0.003436</td>\n",
       "      <td>0.033517</td>\n",
       "      <td>-0.026259</td>\n",
       "      <td>-0.024863</td>\n",
       "      <td>-0.005571</td>\n",
       "      <td>0.005148</td>\n",
       "      <td>0.001981</td>\n",
       "      <td>0.000599</td>\n",
       "    </tr>\n",
       "    <tr>\n",
       "      <th>2009-07-31</th>\n",
       "      <td>0.074606</td>\n",
       "      <td>0.100415</td>\n",
       "      <td>0.110146</td>\n",
       "      <td>0.143247</td>\n",
       "      <td>0.015326</td>\n",
       "      <td>0.069190</td>\n",
       "      <td>0.018568</td>\n",
       "      <td>0.105799</td>\n",
       "      <td>0.008317</td>\n",
       "      <td>0.031284</td>\n",
       "      <td>0.000879</td>\n",
       "      <td>-0.000027</td>\n",
       "    </tr>\n",
       "    <tr>\n",
       "      <th>2009-08-31</th>\n",
       "      <td>0.036940</td>\n",
       "      <td>0.045030</td>\n",
       "      <td>-0.013136</td>\n",
       "      <td>0.033413</td>\n",
       "      <td>-0.004151</td>\n",
       "      <td>-0.016969</td>\n",
       "      <td>-0.040365</td>\n",
       "      <td>0.131939</td>\n",
       "      <td>0.007635</td>\n",
       "      <td>0.007628</td>\n",
       "      <td>0.008413</td>\n",
       "      <td>0.000436</td>\n",
       "    </tr>\n",
       "    <tr>\n",
       "      <th>...</th>\n",
       "      <td>...</td>\n",
       "      <td>...</td>\n",
       "      <td>...</td>\n",
       "      <td>...</td>\n",
       "      <td>...</td>\n",
       "      <td>...</td>\n",
       "      <td>...</td>\n",
       "      <td>...</td>\n",
       "      <td>...</td>\n",
       "      <td>...</td>\n",
       "      <td>...</td>\n",
       "      <td>...</td>\n",
       "    </tr>\n",
       "    <tr>\n",
       "      <th>2024-01-31</th>\n",
       "      <td>0.015926</td>\n",
       "      <td>-0.004512</td>\n",
       "      <td>-0.045262</td>\n",
       "      <td>-0.006270</td>\n",
       "      <td>-0.003987</td>\n",
       "      <td>0.001163</td>\n",
       "      <td>0.013158</td>\n",
       "      <td>-0.050979</td>\n",
       "      <td>0.000726</td>\n",
       "      <td>-0.030630</td>\n",
       "      <td>0.003349</td>\n",
       "      <td>0.003995</td>\n",
       "    </tr>\n",
       "    <tr>\n",
       "      <th>2024-02-29</th>\n",
       "      <td>0.052187</td>\n",
       "      <td>0.029863</td>\n",
       "      <td>0.041678</td>\n",
       "      <td>0.041903</td>\n",
       "      <td>0.015677</td>\n",
       "      <td>0.003035</td>\n",
       "      <td>-0.015226</td>\n",
       "      <td>0.021326</td>\n",
       "      <td>-0.020826</td>\n",
       "      <td>-0.010788</td>\n",
       "      <td>-0.010477</td>\n",
       "      <td>0.003933</td>\n",
       "    </tr>\n",
       "    <tr>\n",
       "      <th>2024-03-31</th>\n",
       "      <td>0.032702</td>\n",
       "      <td>0.033786</td>\n",
       "      <td>0.027257</td>\n",
       "      <td>0.032782</td>\n",
       "      <td>0.014450</td>\n",
       "      <td>0.010898</td>\n",
       "      <td>0.044566</td>\n",
       "      <td>0.018538</td>\n",
       "      <td>0.007332</td>\n",
       "      <td>0.003882</td>\n",
       "      <td>0.006466</td>\n",
       "      <td>0.004161</td>\n",
       "    </tr>\n",
       "    <tr>\n",
       "      <th>2024-04-30</th>\n",
       "      <td>-0.040320</td>\n",
       "      <td>-0.032432</td>\n",
       "      <td>-0.002191</td>\n",
       "      <td>-0.040782</td>\n",
       "      <td>-0.011978</td>\n",
       "      <td>-0.013513</td>\n",
       "      <td>0.016108</td>\n",
       "      <td>-0.081201</td>\n",
       "      <td>-0.031298</td>\n",
       "      <td>-0.036210</td>\n",
       "      <td>-0.016908</td>\n",
       "      <td>0.003744</td>\n",
       "    </tr>\n",
       "    <tr>\n",
       "      <th>2024-05-31</th>\n",
       "      <td>0.041097</td>\n",
       "      <td>0.040637</td>\n",
       "      <td>0.029519</td>\n",
       "      <td>0.034930</td>\n",
       "      <td>0.012451</td>\n",
       "      <td>0.012782</td>\n",
       "      <td>0.001714</td>\n",
       "      <td>0.029056</td>\n",
       "      <td>0.013285</td>\n",
       "      <td>0.012824</td>\n",
       "      <td>0.013764</td>\n",
       "      <td>0.004218</td>\n",
       "    </tr>\n",
       "  </tbody>\n",
       "</table>\n",
       "<p>182 rows × 12 columns</p>\n",
       "</div>"
      ],
      "text/plain": [
       "                 SPY       EFA       EEM       PSP       QAI       HYG  \\\n",
       "Date                                                                     \n",
       "2009-04-30  0.099346  0.115190  0.155582  0.230203  0.022883  0.138460   \n",
       "2009-05-31  0.058454  0.131918  0.159400  0.053892  0.027865  0.028555   \n",
       "2009-06-30 -0.000655 -0.014049 -0.022495  0.045449 -0.003436  0.033517   \n",
       "2009-07-31  0.074606  0.100415  0.110146  0.143247  0.015326  0.069190   \n",
       "2009-08-31  0.036940  0.045030 -0.013136  0.033413 -0.004151 -0.016969   \n",
       "...              ...       ...       ...       ...       ...       ...   \n",
       "2024-01-31  0.015926 -0.004512 -0.045262 -0.006270 -0.003987  0.001163   \n",
       "2024-02-29  0.052187  0.029863  0.041678  0.041903  0.015677  0.003035   \n",
       "2024-03-31  0.032702  0.033786  0.027257  0.032782  0.014450  0.010898   \n",
       "2024-04-30 -0.040320 -0.032432 -0.002191 -0.040782 -0.011978 -0.013513   \n",
       "2024-05-31  0.041097  0.040637  0.029519  0.034930  0.012451  0.012782   \n",
       "\n",
       "                 DBC       IYR       IEF       BWX       TIP       SHV  \n",
       "Date                                                                    \n",
       "2009-04-30 -0.001000  0.296151 -0.027453  0.008993 -0.017951  0.000553  \n",
       "2009-05-31  0.162663  0.022728 -0.020773  0.053672  0.019966 -0.000472  \n",
       "2009-06-30 -0.026259 -0.024863 -0.005571  0.005148  0.001981  0.000599  \n",
       "2009-07-31  0.018568  0.105799  0.008317  0.031284  0.000879 -0.000027  \n",
       "2009-08-31 -0.040365  0.131939  0.007635  0.007628  0.008413  0.000436  \n",
       "...              ...       ...       ...       ...       ...       ...  \n",
       "2024-01-31  0.013158 -0.050979  0.000726 -0.030630  0.003349  0.003995  \n",
       "2024-02-29 -0.015226  0.021326 -0.020826 -0.010788 -0.010477  0.003933  \n",
       "2024-03-31  0.044566  0.018538  0.007332  0.003882  0.006466  0.004161  \n",
       "2024-04-30  0.016108 -0.081201 -0.031298 -0.036210 -0.016908  0.003744  \n",
       "2024-05-31  0.001714  0.029056  0.013285  0.012824  0.013764  0.004218  \n",
       "\n",
       "[182 rows x 12 columns]"
      ]
     },
     "execution_count": 7,
     "metadata": {},
     "output_type": "execute_result"
    }
   ],
   "source": [
    "current_directory_path = os.path.abspath(os.path.dirname(__name__))\n",
    "data_directory_path = os.path.join(current_directory_path, '..', 'data', 'multi_asset_etf_data.xlsx')\n",
    "\n",
    "rets = pd.read_excel(data_directory_path,sheet_name='total returns').set_index('Date')\n",
    "rets"
   ]
  },
  {
   "cell_type": "code",
   "execution_count": 8,
   "id": "07653af7",
   "metadata": {
    "jupyter": {
     "source_hidden": true
    }
   },
   "outputs": [],
   "source": [
    "current_directory_path = os.path.abspath(os.path.dirname(__name__))\n",
    "data_directory_path = os.path.join(current_directory_path, '..', 'data', 'multi_asset_etf_data.xlsx')\n",
    "\n",
    "port = pd.read_excel(data_directory_path,sheet_name='portfolio returns').set_index('Date')"
   ]
  },
  {
   "cell_type": "markdown",
   "id": "7f9aa0f5",
   "metadata": {},
   "source": [
    "## <span style='color:red'>1.1</span>"
   ]
  },
  {
   "cell_type": "code",
   "execution_count": 9,
   "id": "f38047b8",
   "metadata": {
    "ExecuteTime": {
     "end_time": "2021-06-24T01:37:08.773349Z",
     "start_time": "2021-06-24T01:37:08.764291Z"
    },
    "jupyter": {
     "source_hidden": true
    }
   },
   "outputs": [
    {
     "data": {
      "text/html": [
       "<table class=\"simpletable\">\n",
       "<caption>OLS Regression Results</caption>\n",
       "<tr>\n",
       "  <th>Dep. Variable:</th>        <td>portfolio</td>    <th>  R-squared:         </th> <td>   0.762</td>\n",
       "</tr>\n",
       "<tr>\n",
       "  <th>Model:</th>                   <td>OLS</td>       <th>  Adj. R-squared:    </th> <td>   0.760</td>\n",
       "</tr>\n",
       "<tr>\n",
       "  <th>Method:</th>             <td>Least Squares</td>  <th>  F-statistic:       </th> <td>   575.0</td>\n",
       "</tr>\n",
       "<tr>\n",
       "  <th>Date:</th>             <td>Thu, 29 Aug 2024</td> <th>  Prob (F-statistic):</th> <td>6.19e-58</td>\n",
       "</tr>\n",
       "<tr>\n",
       "  <th>Time:</th>                 <td>19:05:30</td>     <th>  Log-Likelihood:    </th> <td>  499.84</td>\n",
       "</tr>\n",
       "<tr>\n",
       "  <th>No. Observations:</th>      <td>   182</td>      <th>  AIC:               </th> <td>  -995.7</td>\n",
       "</tr>\n",
       "<tr>\n",
       "  <th>Df Residuals:</th>          <td>   180</td>      <th>  BIC:               </th> <td>  -989.3</td>\n",
       "</tr>\n",
       "<tr>\n",
       "  <th>Df Model:</th>              <td>     1</td>      <th>                     </th>     <td> </td>   \n",
       "</tr>\n",
       "<tr>\n",
       "  <th>Covariance Type:</th>      <td>nonrobust</td>    <th>                     </th>     <td> </td>   \n",
       "</tr>\n",
       "</table>\n",
       "<table class=\"simpletable\">\n",
       "<tr>\n",
       "    <td></td>       <th>coef</th>     <th>std err</th>      <th>t</th>      <th>P>|t|</th>  <th>[0.025</th>    <th>0.975]</th>  \n",
       "</tr>\n",
       "<tr>\n",
       "  <th>const</th> <td>   -0.0016</td> <td>    0.001</td> <td>   -1.347</td> <td> 0.180</td> <td>   -0.004</td> <td>    0.001</td>\n",
       "</tr>\n",
       "<tr>\n",
       "  <th>SPY</th>   <td>    0.6525</td> <td>    0.027</td> <td>   23.979</td> <td> 0.000</td> <td>    0.599</td> <td>    0.706</td>\n",
       "</tr>\n",
       "</table>\n",
       "<table class=\"simpletable\">\n",
       "<tr>\n",
       "  <th>Omnibus:</th>       <td>15.927</td> <th>  Durbin-Watson:     </th> <td>   1.925</td>\n",
       "</tr>\n",
       "<tr>\n",
       "  <th>Prob(Omnibus):</th> <td> 0.000</td> <th>  Jarque-Bera (JB):  </th> <td>  26.143</td>\n",
       "</tr>\n",
       "<tr>\n",
       "  <th>Skew:</th>          <td> 0.473</td> <th>  Prob(JB):          </th> <td>2.10e-06</td>\n",
       "</tr>\n",
       "<tr>\n",
       "  <th>Kurtosis:</th>      <td> 4.597</td> <th>  Cond. No.          </th> <td>    23.5</td>\n",
       "</tr>\n",
       "</table><br/><br/>Notes:<br/>[1] Standard Errors assume that the covariance matrix of the errors is correctly specified."
      ],
      "text/latex": [
       "\\begin{center}\n",
       "\\begin{tabular}{lclc}\n",
       "\\toprule\n",
       "\\textbf{Dep. Variable:}    &    portfolio     & \\textbf{  R-squared:         } &     0.762   \\\\\n",
       "\\textbf{Model:}            &       OLS        & \\textbf{  Adj. R-squared:    } &     0.760   \\\\\n",
       "\\textbf{Method:}           &  Least Squares   & \\textbf{  F-statistic:       } &     575.0   \\\\\n",
       "\\textbf{Date:}             & Thu, 29 Aug 2024 & \\textbf{  Prob (F-statistic):} &  6.19e-58   \\\\\n",
       "\\textbf{Time:}             &     19:05:30     & \\textbf{  Log-Likelihood:    } &    499.84   \\\\\n",
       "\\textbf{No. Observations:} &         182      & \\textbf{  AIC:               } &    -995.7   \\\\\n",
       "\\textbf{Df Residuals:}     &         180      & \\textbf{  BIC:               } &    -989.3   \\\\\n",
       "\\textbf{Df Model:}         &           1      & \\textbf{                     } &             \\\\\n",
       "\\textbf{Covariance Type:}  &    nonrobust     & \\textbf{                     } &             \\\\\n",
       "\\bottomrule\n",
       "\\end{tabular}\n",
       "\\begin{tabular}{lcccccc}\n",
       "               & \\textbf{coef} & \\textbf{std err} & \\textbf{t} & \\textbf{P$> |$t$|$} & \\textbf{[0.025} & \\textbf{0.975]}  \\\\\n",
       "\\midrule\n",
       "\\textbf{const} &      -0.0016  &        0.001     &    -1.347  &         0.180        &       -0.004    &        0.001     \\\\\n",
       "\\textbf{SPY}   &       0.6525  &        0.027     &    23.979  &         0.000        &        0.599    &        0.706     \\\\\n",
       "\\bottomrule\n",
       "\\end{tabular}\n",
       "\\begin{tabular}{lclc}\n",
       "\\textbf{Omnibus:}       & 15.927 & \\textbf{  Durbin-Watson:     } &    1.925  \\\\\n",
       "\\textbf{Prob(Omnibus):} &  0.000 & \\textbf{  Jarque-Bera (JB):  } &   26.143  \\\\\n",
       "\\textbf{Skew:}          &  0.473 & \\textbf{  Prob(JB):          } & 2.10e-06  \\\\\n",
       "\\textbf{Kurtosis:}      &  4.597 & \\textbf{  Cond. No.          } &     23.5  \\\\\n",
       "\\bottomrule\n",
       "\\end{tabular}\n",
       "%\\caption{OLS Regression Results}\n",
       "\\end{center}\n",
       "\n",
       "Notes: \\newline\n",
       " [1] Standard Errors assume that the covariance matrix of the errors is correctly specified."
      ],
      "text/plain": [
       "<class 'statsmodels.iolib.summary.Summary'>\n",
       "\"\"\"\n",
       "                            OLS Regression Results                            \n",
       "==============================================================================\n",
       "Dep. Variable:              portfolio   R-squared:                       0.762\n",
       "Model:                            OLS   Adj. R-squared:                  0.760\n",
       "Method:                 Least Squares   F-statistic:                     575.0\n",
       "Date:                Thu, 29 Aug 2024   Prob (F-statistic):           6.19e-58\n",
       "Time:                        19:05:30   Log-Likelihood:                 499.84\n",
       "No. Observations:                 182   AIC:                            -995.7\n",
       "Df Residuals:                     180   BIC:                            -989.3\n",
       "Df Model:                           1                                         \n",
       "Covariance Type:            nonrobust                                         \n",
       "==============================================================================\n",
       "                 coef    std err          t      P>|t|      [0.025      0.975]\n",
       "------------------------------------------------------------------------------\n",
       "const         -0.0016      0.001     -1.347      0.180      -0.004       0.001\n",
       "SPY            0.6525      0.027     23.979      0.000       0.599       0.706\n",
       "==============================================================================\n",
       "Omnibus:                       15.927   Durbin-Watson:                   1.925\n",
       "Prob(Omnibus):                  0.000   Jarque-Bera (JB):               26.143\n",
       "Skew:                           0.473   Prob(JB):                     2.10e-06\n",
       "Kurtosis:                       4.597   Cond. No.                         23.5\n",
       "==============================================================================\n",
       "\n",
       "Notes:\n",
       "[1] Standard Errors assume that the covariance matrix of the errors is correctly specified.\n",
       "\"\"\""
      ]
     },
     "execution_count": 9,
     "metadata": {},
     "output_type": "execute_result"
    }
   ],
   "source": [
    "X = sm.add_constant(rets['SPY'])\n",
    "y = port\n",
    "mod = sm.OLS(y, X).fit()\n",
    "mod.summary()"
   ]
  },
  {
   "cell_type": "markdown",
   "id": "6066272e",
   "metadata": {},
   "source": [
    "## <span style='color:red'>1.2</span>"
   ]
  },
  {
   "cell_type": "code",
   "execution_count": 10,
   "id": "67ba4840",
   "metadata": {
    "ExecuteTime": {
     "end_time": "2021-06-24T01:37:08.784226Z",
     "start_time": "2021-06-24T01:37:08.775144Z"
    },
    "jupyter": {
     "source_hidden": true
    }
   },
   "outputs": [
    {
     "data": {
      "text/html": [
       "<table class=\"simpletable\">\n",
       "<caption>OLS Regression Results</caption>\n",
       "<tr>\n",
       "  <th>Dep. Variable:</th>        <td>portfolio</td>    <th>  R-squared:         </th> <td>   0.835</td>\n",
       "</tr>\n",
       "<tr>\n",
       "  <th>Model:</th>                   <td>OLS</td>       <th>  Adj. R-squared:    </th> <td>   0.834</td>\n",
       "</tr>\n",
       "<tr>\n",
       "  <th>Method:</th>             <td>Least Squares</td>  <th>  F-statistic:       </th> <td>   454.1</td>\n",
       "</tr>\n",
       "<tr>\n",
       "  <th>Date:</th>             <td>Thu, 29 Aug 2024</td> <th>  Prob (F-statistic):</th> <td>7.57e-71</td>\n",
       "</tr>\n",
       "<tr>\n",
       "  <th>Time:</th>                 <td>19:05:31</td>     <th>  Log-Likelihood:    </th> <td>  533.53</td>\n",
       "</tr>\n",
       "<tr>\n",
       "  <th>No. Observations:</th>      <td>   182</td>      <th>  AIC:               </th> <td>  -1061.</td>\n",
       "</tr>\n",
       "<tr>\n",
       "  <th>Df Residuals:</th>          <td>   179</td>      <th>  BIC:               </th> <td>  -1051.</td>\n",
       "</tr>\n",
       "<tr>\n",
       "  <th>Df Model:</th>              <td>     2</td>      <th>                     </th>     <td> </td>   \n",
       "</tr>\n",
       "<tr>\n",
       "  <th>Covariance Type:</th>      <td>nonrobust</td>    <th>                     </th>     <td> </td>   \n",
       "</tr>\n",
       "</table>\n",
       "<table class=\"simpletable\">\n",
       "<tr>\n",
       "    <td></td>       <th>coef</th>     <th>std err</th>      <th>t</th>      <th>P>|t|</th>  <th>[0.025</th>    <th>0.975]</th>  \n",
       "</tr>\n",
       "<tr>\n",
       "  <th>const</th> <td>   -0.0017</td> <td>    0.001</td> <td>   -1.659</td> <td> 0.099</td> <td>   -0.004</td> <td>    0.000</td>\n",
       "</tr>\n",
       "<tr>\n",
       "  <th>SPY</th>   <td>    0.4048</td> <td>    0.036</td> <td>   11.318</td> <td> 0.000</td> <td>    0.334</td> <td>    0.475</td>\n",
       "</tr>\n",
       "<tr>\n",
       "  <th>HYG</th>   <td>    0.5370</td> <td>    0.060</td> <td>    8.956</td> <td> 0.000</td> <td>    0.419</td> <td>    0.655</td>\n",
       "</tr>\n",
       "</table>\n",
       "<table class=\"simpletable\">\n",
       "<tr>\n",
       "  <th>Omnibus:</th>       <td> 2.116</td> <th>  Durbin-Watson:     </th> <td>   2.217</td>\n",
       "</tr>\n",
       "<tr>\n",
       "  <th>Prob(Omnibus):</th> <td> 0.347</td> <th>  Jarque-Bera (JB):  </th> <td>   1.929</td>\n",
       "</tr>\n",
       "<tr>\n",
       "  <th>Skew:</th>          <td> 0.252</td> <th>  Prob(JB):          </th> <td>   0.381</td>\n",
       "</tr>\n",
       "<tr>\n",
       "  <th>Kurtosis:</th>      <td> 3.023</td> <th>  Cond. No.          </th> <td>    69.3</td>\n",
       "</tr>\n",
       "</table><br/><br/>Notes:<br/>[1] Standard Errors assume that the covariance matrix of the errors is correctly specified."
      ],
      "text/latex": [
       "\\begin{center}\n",
       "\\begin{tabular}{lclc}\n",
       "\\toprule\n",
       "\\textbf{Dep. Variable:}    &    portfolio     & \\textbf{  R-squared:         } &     0.835   \\\\\n",
       "\\textbf{Model:}            &       OLS        & \\textbf{  Adj. R-squared:    } &     0.834   \\\\\n",
       "\\textbf{Method:}           &  Least Squares   & \\textbf{  F-statistic:       } &     454.1   \\\\\n",
       "\\textbf{Date:}             & Thu, 29 Aug 2024 & \\textbf{  Prob (F-statistic):} &  7.57e-71   \\\\\n",
       "\\textbf{Time:}             &     19:05:31     & \\textbf{  Log-Likelihood:    } &    533.53   \\\\\n",
       "\\textbf{No. Observations:} &         182      & \\textbf{  AIC:               } &    -1061.   \\\\\n",
       "\\textbf{Df Residuals:}     &         179      & \\textbf{  BIC:               } &    -1051.   \\\\\n",
       "\\textbf{Df Model:}         &           2      & \\textbf{                     } &             \\\\\n",
       "\\textbf{Covariance Type:}  &    nonrobust     & \\textbf{                     } &             \\\\\n",
       "\\bottomrule\n",
       "\\end{tabular}\n",
       "\\begin{tabular}{lcccccc}\n",
       "               & \\textbf{coef} & \\textbf{std err} & \\textbf{t} & \\textbf{P$> |$t$|$} & \\textbf{[0.025} & \\textbf{0.975]}  \\\\\n",
       "\\midrule\n",
       "\\textbf{const} &      -0.0017  &        0.001     &    -1.659  &         0.099        &       -0.004    &        0.000     \\\\\n",
       "\\textbf{SPY}   &       0.4048  &        0.036     &    11.318  &         0.000        &        0.334    &        0.475     \\\\\n",
       "\\textbf{HYG}   &       0.5370  &        0.060     &     8.956  &         0.000        &        0.419    &        0.655     \\\\\n",
       "\\bottomrule\n",
       "\\end{tabular}\n",
       "\\begin{tabular}{lclc}\n",
       "\\textbf{Omnibus:}       &  2.116 & \\textbf{  Durbin-Watson:     } &    2.217  \\\\\n",
       "\\textbf{Prob(Omnibus):} &  0.347 & \\textbf{  Jarque-Bera (JB):  } &    1.929  \\\\\n",
       "\\textbf{Skew:}          &  0.252 & \\textbf{  Prob(JB):          } &    0.381  \\\\\n",
       "\\textbf{Kurtosis:}      &  3.023 & \\textbf{  Cond. No.          } &     69.3  \\\\\n",
       "\\bottomrule\n",
       "\\end{tabular}\n",
       "%\\caption{OLS Regression Results}\n",
       "\\end{center}\n",
       "\n",
       "Notes: \\newline\n",
       " [1] Standard Errors assume that the covariance matrix of the errors is correctly specified."
      ],
      "text/plain": [
       "<class 'statsmodels.iolib.summary.Summary'>\n",
       "\"\"\"\n",
       "                            OLS Regression Results                            \n",
       "==============================================================================\n",
       "Dep. Variable:              portfolio   R-squared:                       0.835\n",
       "Model:                            OLS   Adj. R-squared:                  0.834\n",
       "Method:                 Least Squares   F-statistic:                     454.1\n",
       "Date:                Thu, 29 Aug 2024   Prob (F-statistic):           7.57e-71\n",
       "Time:                        19:05:31   Log-Likelihood:                 533.53\n",
       "No. Observations:                 182   AIC:                            -1061.\n",
       "Df Residuals:                     179   BIC:                            -1051.\n",
       "Df Model:                           2                                         \n",
       "Covariance Type:            nonrobust                                         \n",
       "==============================================================================\n",
       "                 coef    std err          t      P>|t|      [0.025      0.975]\n",
       "------------------------------------------------------------------------------\n",
       "const         -0.0017      0.001     -1.659      0.099      -0.004       0.000\n",
       "SPY            0.4048      0.036     11.318      0.000       0.334       0.475\n",
       "HYG            0.5370      0.060      8.956      0.000       0.419       0.655\n",
       "==============================================================================\n",
       "Omnibus:                        2.116   Durbin-Watson:                   2.217\n",
       "Prob(Omnibus):                  0.347   Jarque-Bera (JB):                1.929\n",
       "Skew:                           0.252   Prob(JB):                        0.381\n",
       "Kurtosis:                       3.023   Cond. No.                         69.3\n",
       "==============================================================================\n",
       "\n",
       "Notes:\n",
       "[1] Standard Errors assume that the covariance matrix of the errors is correctly specified.\n",
       "\"\"\""
      ]
     },
     "execution_count": 10,
     "metadata": {},
     "output_type": "execute_result"
    }
   ],
   "source": [
    "X = sm.add_constant(rets[['SPY', 'HYG']])\n",
    "y = port\n",
    "mod_multi = sm.OLS(y, X).fit()\n",
    "mod_multi.summary()"
   ]
  },
  {
   "cell_type": "markdown",
   "id": "3ebc65a6",
   "metadata": {},
   "source": [
    "Notice that the beta on SPY is much lower now that we include CL1. Also note that the R-squared is much higher."
   ]
  },
  {
   "cell_type": "markdown",
   "id": "17c05202",
   "metadata": {},
   "source": [
    "## <span style='color:red'>1.3</span>"
   ]
  },
  {
   "cell_type": "markdown",
   "id": "a51059f6",
   "metadata": {},
   "source": [
    "The squared correlation is exactly the R^2, as R^2 captures the correlation of Portfolio's return and the combined space spanned by both regressors."
   ]
  },
  {
   "cell_type": "code",
   "execution_count": 11,
   "id": "0ecdae84",
   "metadata": {
    "ExecuteTime": {
     "end_time": "2021-06-24T01:37:08.788236Z",
     "start_time": "2021-06-24T01:37:08.784889Z"
    },
    "jupyter": {
     "source_hidden": true
    }
   },
   "outputs": [
    {
     "name": "stdout",
     "output_type": "stream",
     "text": [
      "Correlation between portfolio and replication: 91.40%.\n",
      "Square of this correaltion is 83.54%\n",
      "which equals the R-squared.\n"
     ]
    },
    {
     "name": "stderr",
     "output_type": "stream",
     "text": [
      "C:\\Users\\eduar\\AppData\\Local\\Temp\\ipykernel_82416\\3138966896.py:1: FutureWarning: Series.__getitem__ treating keys as positions is deprecated. In a future version, integer keys will always be treated as labels (consistent with DataFrame behavior). To access a value by position, use `ser.iloc[pos]`\n",
      "  corr_port = port.corrwith(mod.fittedvalues)[0]\n",
      "C:\\Users\\eduar\\AppData\\Local\\Temp\\ipykernel_82416\\3138966896.py:2: FutureWarning: Series.__getitem__ treating keys as positions is deprecated. In a future version, integer keys will always be treated as labels (consistent with DataFrame behavior). To access a value by position, use `ser.iloc[pos]`\n",
      "  corr_port_multi = port.corrwith(mod_multi.fittedvalues)[0]\n"
     ]
    }
   ],
   "source": [
    "corr_port = port.corrwith(mod.fittedvalues)[0]\n",
    "corr_port_multi = port.corrwith(mod_multi.fittedvalues)[0]\n",
    "print(f'Correlation between portfolio and replication: {corr_port_multi:.2%}.')\n",
    "print(f'Square of this correaltion is {corr_port_multi**2:.2%}\\nwhich equals the R-squared.')"
   ]
  },
  {
   "cell_type": "markdown",
   "id": "75bff20e",
   "metadata": {},
   "source": [
    "## <span style='color:red'>1.4</span>"
   ]
  },
  {
   "cell_type": "code",
   "execution_count": 12,
   "id": "a8e99782",
   "metadata": {
    "ExecuteTime": {
     "end_time": "2021-06-24T01:37:08.791609Z",
     "start_time": "2021-06-24T01:37:08.789012Z"
    },
    "jupyter": {
     "source_hidden": true
    }
   },
   "outputs": [
    {
     "name": "stdout",
     "output_type": "stream",
     "text": [
      "Correlation between SPY and HYG is 77.3%\n"
     ]
    }
   ],
   "source": [
    "TICKreg1 = 'SPY'\n",
    "TICKreg2 = 'HYG'\n",
    "corrREGS = rets[TICKreg2].corr(rets[TICKreg1])\n",
    "print(f'Correlation between {TICKreg1} and {TICKreg2} is {corrREGS:.1%}')"
   ]
  },
  {
   "cell_type": "markdown",
   "id": "521c8c3f",
   "metadata": {},
   "source": [
    "The beta for SPY in (2) is much smaller than in (1). This is because HYG and SPY are significantly correlated, therefore a large proportion of the variation in the Portfolio return which was being attributed to SPY (in eq 1) was actually better explained by HYG. Thus, in eq (2) this gets attributed more directly to HYG, and less is attributed to SPY."
   ]
  },
  {
   "cell_type": "markdown",
   "id": "496aa5a8",
   "metadata": {},
   "source": [
    "## <span style='color:red'>1.5</span>"
   ]
  },
  {
   "cell_type": "markdown",
   "id": "8ca8bf0d",
   "metadata": {},
   "source": [
    "Without doing calculation, the intuition is that the second regression includes HYG as a regressor. Sample residuals are always uncorrelated (in-sample) to the regressors. Thus, in this regression we know the sample residual will have zero correlation to HYG. In the first regression, HYG was not a regressor, so it may have substantial correlation to the sample residual.\n",
    "\n",
    "For population residuals, $\\epsilon$, we still expect much smaller correlation to HYG in the second regression, though this population residual may still have some correlation to HYG."
   ]
  },
  {
   "cell_type": "code",
   "execution_count": 13,
   "id": "bbd72fda",
   "metadata": {
    "ExecuteTime": {
     "end_time": "2021-06-24T01:37:08.794778Z",
     "start_time": "2021-06-24T01:37:08.792287Z"
    },
    "jupyter": {
     "source_hidden": true
    }
   },
   "outputs": [
    {
     "name": "stdout",
     "output_type": "stream",
     "text": [
      "Correlation between HYG and the sample residual:\n",
      "Univariate = SPY: 35.27%\n",
      "Multivariate = SPY and HYG: -0.00%\n"
     ]
    }
   ],
   "source": [
    "print(f'Correlation between {TICKreg2} and the sample residual:\\nUnivariate = {TICKreg1}: {rets[TICKreg2].corr(mod.resid):.2%}')\n",
    "print(f'Multivariate = {TICKreg1} and {TICKreg2}: {rets[TICKreg2].corr(mod_multi.resid):.2%}')"
   ]
  },
  {
   "cell_type": "markdown",
   "id": "9218dd8d",
   "metadata": {},
   "source": [
    "***"
   ]
  },
  {
   "cell_type": "markdown",
   "id": "6f523d10",
   "metadata": {},
   "source": [
    "# 2. Decomposing and Replicating"
   ]
  },
  {
   "cell_type": "markdown",
   "id": "8588ea56",
   "metadata": {},
   "source": [
    "## 1.\n",
    "The portfolio return, $r_t^p$, is a combination of the base assets that are provided here. Use linear regression to uncover which weights were used in constructing the portfolio.\n",
    "\n",
    "$$r_t^p = \\alpha +\\left(\\boldsymbol{\\beta}\\right)' \\boldsymbol{r}_t + \\epsilon_t$$\n",
    "\n",
    "where $\\boldsymbol{r}$ denotes the vector of returns for the individual securities.\n",
    "* What does the regression find were the original weights?\n",
    "* How precise is the estimation? Consider the R-squared and t-stats.\n",
    "\n",
    "*Feel free to include an $\\alpha$ in this model, even though you know the portfolio is an exact function of the individual securities. The estimation should find $\\alpha$ of (nearly) zero.*\n",
    "\n",
    "\n",
    "## 2.\n",
    "\n",
    "$$\\newcommand{\\targ}{EEM}$$\n",
    "\n",
    "Suppose that we want to mimic a return, **EEM** using the other returns. Run the following regression–but\n",
    "do so **only using data through the end of 2020.**\n",
    "\n",
    "$$r_t^{\\targ} = \\alpha +\\left(\\boldsymbol{\\beta}^{\\boldsymbol{r}}\\right)' \\boldsymbol{r}_t + \\epsilon_t$$\n",
    "\n",
    "where $\\boldsymbol{r}$ denotes the vector of returns for the other securities, excluding the target, **EEM**.\n",
    "\n",
    "#### (a) \n",
    "Report the r-squared and the estimate of the vector, $\\boldsymbol{\\beta}$.\n",
    "\n",
    "#### (b) \n",
    "Report the t-stats of the explanatory returns. Which have absolute value greater than 2?\n",
    "\n",
    "#### (c) \n",
    "Plot the returns of **EEM** along with the replication values.\n",
    "\n",
    "## 3.\n",
    "Perhaps the replication results in the previous problem are overstated given that they estimated the parameters within a sample and then evaluated how well the result fit in the same sample. This is known as in-sample fit.\n",
    "\n",
    "Using the estimates through **2020**, (the α and βˆ from the previous problem,) calculate the out-of-sample (OOS) values of the replication, using the **2021-2023** returns, denoted $\\boldsymbol{r}_t^{\\text{oos}}$:\n",
    "\n",
    "$$\\hat{r}_t^{\\targ} = \\left(\\widehat{\\boldsymbol{\\beta}}^{\\boldsymbol{r}}\\right)' \\boldsymbol{r}_t^{\\text{oos}}$$\n",
    "\n",
    "#### (a) \n",
    "What is the correlation between $\\hat{r}_t^{\\targ}$ and $\\boldsymbol{r}_t^{\\text{oos}}$?\n",
    "\n",
    "#### (b) \n",
    "How does this compare to the r-squared from the regression above based on in-sample data, (through 2020?)"
   ]
  },
  {
   "cell_type": "markdown",
   "id": "9546d710",
   "metadata": {},
   "source": [
    "***"
   ]
  },
  {
   "cell_type": "markdown",
   "id": "f2d2b1cd",
   "metadata": {},
   "source": [
    "# <span style='color:red'>Solution 2</span>"
   ]
  },
  {
   "cell_type": "markdown",
   "id": "6dc043a0",
   "metadata": {},
   "source": [
    "## <span style='color:red'>2.1</span>"
   ]
  },
  {
   "cell_type": "code",
   "execution_count": 14,
   "id": "61a8e6bf",
   "metadata": {
    "ExecuteTime": {
     "end_time": "2021-06-24T01:37:08.805042Z",
     "start_time": "2021-06-24T01:37:08.800384Z"
    },
    "jupyter": {
     "source_hidden": true
    }
   },
   "outputs": [
    {
     "data": {
      "text/html": [
       "<style type=\"text/css\">\n",
       "</style>\n",
       "<table id=\"T_f82cc\">\n",
       "  <thead>\n",
       "    <tr>\n",
       "      <th class=\"blank level0\" >&nbsp;</th>\n",
       "      <th id=\"T_f82cc_level0_col0\" class=\"col_heading level0 col0\" >QAI</th>\n",
       "      <th id=\"T_f82cc_level0_col1\" class=\"col_heading level0 col1\" >IEF</th>\n",
       "      <th id=\"T_f82cc_level0_col2\" class=\"col_heading level0 col2\" >IYR</th>\n",
       "      <th id=\"T_f82cc_level0_col3\" class=\"col_heading level0 col3\" >PSP</th>\n",
       "      <th id=\"T_f82cc_level0_col4\" class=\"col_heading level0 col4\" >const</th>\n",
       "      <th id=\"T_f82cc_level0_col5\" class=\"col_heading level0 col5\" >SHV</th>\n",
       "      <th id=\"T_f82cc_level0_col6\" class=\"col_heading level0 col6\" >TIP</th>\n",
       "      <th id=\"T_f82cc_level0_col7\" class=\"col_heading level0 col7\" >HYG</th>\n",
       "      <th id=\"T_f82cc_level0_col8\" class=\"col_heading level0 col8\" >BWX</th>\n",
       "      <th id=\"T_f82cc_level0_col9\" class=\"col_heading level0 col9\" >EFA</th>\n",
       "      <th id=\"T_f82cc_level0_col10\" class=\"col_heading level0 col10\" >DBC</th>\n",
       "      <th id=\"T_f82cc_level0_col11\" class=\"col_heading level0 col11\" >EEM</th>\n",
       "      <th id=\"T_f82cc_level0_col12\" class=\"col_heading level0 col12\" >SPY</th>\n",
       "    </tr>\n",
       "  </thead>\n",
       "  <tbody>\n",
       "    <tr>\n",
       "      <th id=\"T_f82cc_level0_row0\" class=\"row_heading level0 row0\" >weights</th>\n",
       "      <td id=\"T_f82cc_row0_col0\" class=\"data row0 col0\" >0.25</td>\n",
       "      <td id=\"T_f82cc_row0_col1\" class=\"data row0 col1\" >0.25</td>\n",
       "      <td id=\"T_f82cc_row0_col2\" class=\"data row0 col2\" >0.25</td>\n",
       "      <td id=\"T_f82cc_row0_col3\" class=\"data row0 col3\" >0.25</td>\n",
       "      <td id=\"T_f82cc_row0_col4\" class=\"data row0 col4\" >0.00</td>\n",
       "      <td id=\"T_f82cc_row0_col5\" class=\"data row0 col5\" >0.00</td>\n",
       "      <td id=\"T_f82cc_row0_col6\" class=\"data row0 col6\" >0.00</td>\n",
       "      <td id=\"T_f82cc_row0_col7\" class=\"data row0 col7\" >-0.00</td>\n",
       "      <td id=\"T_f82cc_row0_col8\" class=\"data row0 col8\" >-0.00</td>\n",
       "      <td id=\"T_f82cc_row0_col9\" class=\"data row0 col9\" >-0.00</td>\n",
       "      <td id=\"T_f82cc_row0_col10\" class=\"data row0 col10\" >-0.00</td>\n",
       "      <td id=\"T_f82cc_row0_col11\" class=\"data row0 col11\" >-0.00</td>\n",
       "      <td id=\"T_f82cc_row0_col12\" class=\"data row0 col12\" >-0.00</td>\n",
       "    </tr>\n",
       "  </tbody>\n",
       "</table>\n"
      ],
      "text/plain": [
       "<pandas.io.formats.style.Styler at 0x1d08dc60ce0>"
      ]
     },
     "metadata": {},
     "output_type": "display_data"
    },
    {
     "data": {
      "text/html": [
       "<table class=\"simpletable\">\n",
       "<caption>OLS Regression Results</caption>\n",
       "<tr>\n",
       "  <th>Dep. Variable:</th>        <td>portfolio</td>    <th>  R-squared:         </th>  <td>   1.000</td> \n",
       "</tr>\n",
       "<tr>\n",
       "  <th>Model:</th>                   <td>OLS</td>       <th>  Adj. R-squared:    </th>  <td>   1.000</td> \n",
       "</tr>\n",
       "<tr>\n",
       "  <th>Method:</th>             <td>Least Squares</td>  <th>  F-statistic:       </th>  <td>4.363e+28</td>\n",
       "</tr>\n",
       "<tr>\n",
       "  <th>Date:</th>             <td>Thu, 29 Aug 2024</td> <th>  Prob (F-statistic):</th>   <td>  0.00</td>  \n",
       "</tr>\n",
       "<tr>\n",
       "  <th>Time:</th>                 <td>19:05:33</td>     <th>  Log-Likelihood:    </th>  <td>  6129.7</td> \n",
       "</tr>\n",
       "<tr>\n",
       "  <th>No. Observations:</th>      <td>   182</td>      <th>  AIC:               </th> <td>-1.223e+04</td>\n",
       "</tr>\n",
       "<tr>\n",
       "  <th>Df Residuals:</th>          <td>   169</td>      <th>  BIC:               </th> <td>-1.219e+04</td>\n",
       "</tr>\n",
       "<tr>\n",
       "  <th>Df Model:</th>              <td>    12</td>      <th>                     </th>      <td> </td>    \n",
       "</tr>\n",
       "<tr>\n",
       "  <th>Covariance Type:</th>      <td>nonrobust</td>    <th>                     </th>      <td> </td>    \n",
       "</tr>\n",
       "</table>\n",
       "<table class=\"simpletable\">\n",
       "<tr>\n",
       "    <td></td>       <th>coef</th>     <th>std err</th>      <th>t</th>      <th>P>|t|</th>  <th>[0.025</th>    <th>0.975]</th>  \n",
       "</tr>\n",
       "<tr>\n",
       "  <th>const</th> <td> 5.668e-16</td> <td> 5.61e-17</td> <td>   10.105</td> <td> 0.000</td> <td> 4.56e-16</td> <td> 6.78e-16</td>\n",
       "</tr>\n",
       "<tr>\n",
       "  <th>SPY</th>   <td>-1.048e-15</td> <td> 2.91e-15</td> <td>   -0.360</td> <td> 0.719</td> <td> -6.8e-15</td> <td>  4.7e-15</td>\n",
       "</tr>\n",
       "<tr>\n",
       "  <th>EFA</th>   <td>-4.411e-16</td> <td> 2.97e-15</td> <td>   -0.149</td> <td> 0.882</td> <td> -6.3e-15</td> <td> 5.42e-15</td>\n",
       "</tr>\n",
       "<tr>\n",
       "  <th>EEM</th>   <td>-9.229e-16</td> <td> 1.72e-15</td> <td>   -0.535</td> <td> 0.593</td> <td>-4.33e-15</td> <td> 2.48e-15</td>\n",
       "</tr>\n",
       "<tr>\n",
       "  <th>PSP</th>   <td>    0.2500</td> <td> 2.08e-15</td> <td>  1.2e+14</td> <td> 0.000</td> <td>    0.250</td> <td>    0.250</td>\n",
       "</tr>\n",
       "<tr>\n",
       "  <th>QAI</th>   <td>    0.2500</td> <td> 7.92e-15</td> <td> 3.16e+13</td> <td> 0.000</td> <td>    0.250</td> <td>    0.250</td>\n",
       "</tr>\n",
       "<tr>\n",
       "  <th>HYG</th>   <td>-2.116e-16</td> <td> 3.47e-15</td> <td>   -0.061</td> <td> 0.951</td> <td>-7.06e-15</td> <td> 6.63e-15</td>\n",
       "</tr>\n",
       "<tr>\n",
       "  <th>DBC</th>   <td>-6.141e-16</td> <td> 1.27e-15</td> <td>   -0.482</td> <td> 0.631</td> <td>-3.13e-15</td> <td>  1.9e-15</td>\n",
       "</tr>\n",
       "<tr>\n",
       "  <th>IYR</th>   <td>    0.2500</td> <td> 1.52e-15</td> <td> 1.65e+14</td> <td> 0.000</td> <td>    0.250</td> <td>    0.250</td>\n",
       "</tr>\n",
       "<tr>\n",
       "  <th>IEF</th>   <td>    0.2500</td> <td> 5.28e-15</td> <td> 4.73e+13</td> <td> 0.000</td> <td>    0.250</td> <td>    0.250</td>\n",
       "</tr>\n",
       "<tr>\n",
       "  <th>BWX</th>   <td>-3.331e-16</td> <td> 3.61e-15</td> <td>   -0.092</td> <td> 0.927</td> <td>-7.46e-15</td> <td> 6.79e-15</td>\n",
       "</tr>\n",
       "<tr>\n",
       "  <th>TIP</th>   <td> 1.665e-16</td> <td> 5.72e-15</td> <td>    0.029</td> <td> 0.977</td> <td>-1.11e-14</td> <td> 1.15e-14</td>\n",
       "</tr>\n",
       "<tr>\n",
       "  <th>SHV</th>   <td> 4.441e-16</td> <td> 3.43e-14</td> <td>    0.013</td> <td> 0.990</td> <td>-6.72e-14</td> <td> 6.81e-14</td>\n",
       "</tr>\n",
       "</table>\n",
       "<table class=\"simpletable\">\n",
       "<tr>\n",
       "  <th>Omnibus:</th>       <td>11.812</td> <th>  Durbin-Watson:     </th> <td>   0.352</td>\n",
       "</tr>\n",
       "<tr>\n",
       "  <th>Prob(Omnibus):</th> <td> 0.003</td> <th>  Jarque-Bera (JB):  </th> <td>  23.700</td>\n",
       "</tr>\n",
       "<tr>\n",
       "  <th>Skew:</th>          <td>-0.244</td> <th>  Prob(JB):          </th> <td>7.14e-06</td>\n",
       "</tr>\n",
       "<tr>\n",
       "  <th>Kurtosis:</th>      <td> 4.699</td> <th>  Cond. No.          </th> <td>    781.</td>\n",
       "</tr>\n",
       "</table><br/><br/>Notes:<br/>[1] Standard Errors assume that the covariance matrix of the errors is correctly specified."
      ],
      "text/latex": [
       "\\begin{center}\n",
       "\\begin{tabular}{lclc}\n",
       "\\toprule\n",
       "\\textbf{Dep. Variable:}    &    portfolio     & \\textbf{  R-squared:         } &     1.000   \\\\\n",
       "\\textbf{Model:}            &       OLS        & \\textbf{  Adj. R-squared:    } &     1.000   \\\\\n",
       "\\textbf{Method:}           &  Least Squares   & \\textbf{  F-statistic:       } & 4.363e+28   \\\\\n",
       "\\textbf{Date:}             & Thu, 29 Aug 2024 & \\textbf{  Prob (F-statistic):} &     0.00    \\\\\n",
       "\\textbf{Time:}             &     19:05:33     & \\textbf{  Log-Likelihood:    } &    6129.7   \\\\\n",
       "\\textbf{No. Observations:} &         182      & \\textbf{  AIC:               } & -1.223e+04  \\\\\n",
       "\\textbf{Df Residuals:}     &         169      & \\textbf{  BIC:               } & -1.219e+04  \\\\\n",
       "\\textbf{Df Model:}         &          12      & \\textbf{                     } &             \\\\\n",
       "\\textbf{Covariance Type:}  &    nonrobust     & \\textbf{                     } &             \\\\\n",
       "\\bottomrule\n",
       "\\end{tabular}\n",
       "\\begin{tabular}{lcccccc}\n",
       "               & \\textbf{coef} & \\textbf{std err} & \\textbf{t} & \\textbf{P$> |$t$|$} & \\textbf{[0.025} & \\textbf{0.975]}  \\\\\n",
       "\\midrule\n",
       "\\textbf{const} &    5.668e-16  &     5.61e-17     &    10.105  &         0.000        &     4.56e-16    &     6.78e-16     \\\\\n",
       "\\textbf{SPY}   &   -1.048e-15  &     2.91e-15     &    -0.360  &         0.719        &     -6.8e-15    &      4.7e-15     \\\\\n",
       "\\textbf{EFA}   &   -4.411e-16  &     2.97e-15     &    -0.149  &         0.882        &     -6.3e-15    &     5.42e-15     \\\\\n",
       "\\textbf{EEM}   &   -9.229e-16  &     1.72e-15     &    -0.535  &         0.593        &    -4.33e-15    &     2.48e-15     \\\\\n",
       "\\textbf{PSP}   &       0.2500  &     2.08e-15     &   1.2e+14  &         0.000        &        0.250    &        0.250     \\\\\n",
       "\\textbf{QAI}   &       0.2500  &     7.92e-15     &  3.16e+13  &         0.000        &        0.250    &        0.250     \\\\\n",
       "\\textbf{HYG}   &   -2.116e-16  &     3.47e-15     &    -0.061  &         0.951        &    -7.06e-15    &     6.63e-15     \\\\\n",
       "\\textbf{DBC}   &   -6.141e-16  &     1.27e-15     &    -0.482  &         0.631        &    -3.13e-15    &      1.9e-15     \\\\\n",
       "\\textbf{IYR}   &       0.2500  &     1.52e-15     &  1.65e+14  &         0.000        &        0.250    &        0.250     \\\\\n",
       "\\textbf{IEF}   &       0.2500  &     5.28e-15     &  4.73e+13  &         0.000        &        0.250    &        0.250     \\\\\n",
       "\\textbf{BWX}   &   -3.331e-16  &     3.61e-15     &    -0.092  &         0.927        &    -7.46e-15    &     6.79e-15     \\\\\n",
       "\\textbf{TIP}   &    1.665e-16  &     5.72e-15     &     0.029  &         0.977        &    -1.11e-14    &     1.15e-14     \\\\\n",
       "\\textbf{SHV}   &    4.441e-16  &     3.43e-14     &     0.013  &         0.990        &    -6.72e-14    &     6.81e-14     \\\\\n",
       "\\bottomrule\n",
       "\\end{tabular}\n",
       "\\begin{tabular}{lclc}\n",
       "\\textbf{Omnibus:}       & 11.812 & \\textbf{  Durbin-Watson:     } &    0.352  \\\\\n",
       "\\textbf{Prob(Omnibus):} &  0.003 & \\textbf{  Jarque-Bera (JB):  } &   23.700  \\\\\n",
       "\\textbf{Skew:}          & -0.244 & \\textbf{  Prob(JB):          } & 7.14e-06  \\\\\n",
       "\\textbf{Kurtosis:}      &  4.699 & \\textbf{  Cond. No.          } &     781.  \\\\\n",
       "\\bottomrule\n",
       "\\end{tabular}\n",
       "%\\caption{OLS Regression Results}\n",
       "\\end{center}\n",
       "\n",
       "Notes: \\newline\n",
       " [1] Standard Errors assume that the covariance matrix of the errors is correctly specified."
      ],
      "text/plain": [
       "<class 'statsmodels.iolib.summary.Summary'>\n",
       "\"\"\"\n",
       "                            OLS Regression Results                            \n",
       "==============================================================================\n",
       "Dep. Variable:              portfolio   R-squared:                       1.000\n",
       "Model:                            OLS   Adj. R-squared:                  1.000\n",
       "Method:                 Least Squares   F-statistic:                 4.363e+28\n",
       "Date:                Thu, 29 Aug 2024   Prob (F-statistic):               0.00\n",
       "Time:                        19:05:33   Log-Likelihood:                 6129.7\n",
       "No. Observations:                 182   AIC:                        -1.223e+04\n",
       "Df Residuals:                     169   BIC:                        -1.219e+04\n",
       "Df Model:                          12                                         \n",
       "Covariance Type:            nonrobust                                         \n",
       "==============================================================================\n",
       "                 coef    std err          t      P>|t|      [0.025      0.975]\n",
       "------------------------------------------------------------------------------\n",
       "const       5.668e-16   5.61e-17     10.105      0.000    4.56e-16    6.78e-16\n",
       "SPY        -1.048e-15   2.91e-15     -0.360      0.719    -6.8e-15     4.7e-15\n",
       "EFA        -4.411e-16   2.97e-15     -0.149      0.882    -6.3e-15    5.42e-15\n",
       "EEM        -9.229e-16   1.72e-15     -0.535      0.593   -4.33e-15    2.48e-15\n",
       "PSP            0.2500   2.08e-15    1.2e+14      0.000       0.250       0.250\n",
       "QAI            0.2500   7.92e-15   3.16e+13      0.000       0.250       0.250\n",
       "HYG        -2.116e-16   3.47e-15     -0.061      0.951   -7.06e-15    6.63e-15\n",
       "DBC        -6.141e-16   1.27e-15     -0.482      0.631   -3.13e-15     1.9e-15\n",
       "IYR            0.2500   1.52e-15   1.65e+14      0.000       0.250       0.250\n",
       "IEF            0.2500   5.28e-15   4.73e+13      0.000       0.250       0.250\n",
       "BWX        -3.331e-16   3.61e-15     -0.092      0.927   -7.46e-15    6.79e-15\n",
       "TIP         1.665e-16   5.72e-15      0.029      0.977   -1.11e-14    1.15e-14\n",
       "SHV         4.441e-16   3.43e-14      0.013      0.990   -6.72e-14    6.81e-14\n",
       "==============================================================================\n",
       "Omnibus:                       11.812   Durbin-Watson:                   0.352\n",
       "Prob(Omnibus):                  0.003   Jarque-Bera (JB):               23.700\n",
       "Skew:                          -0.244   Prob(JB):                     7.14e-06\n",
       "Kurtosis:                       4.699   Cond. No.                         781.\n",
       "==============================================================================\n",
       "\n",
       "Notes:\n",
       "[1] Standard Errors assume that the covariance matrix of the errors is correctly specified.\n",
       "\"\"\""
      ]
     },
     "execution_count": 14,
     "metadata": {},
     "output_type": "execute_result"
    }
   ],
   "source": [
    "X = sm.add_constant(rets)\n",
    "y = port\n",
    "mod_exact = sm.OLS(y, X).fit()\n",
    "display(mod_exact.params.to_frame().rename(columns={0:'weights'}).sort_values('weights',ascending=False).T.style.format('{:.2f}'))\n",
    "mod_exact.summary()"
   ]
  },
  {
   "cell_type": "markdown",
   "id": "cc7aeb96",
   "metadata": {},
   "source": [
    "## <span style='color:red'>2.2</span>"
   ]
  },
  {
   "cell_type": "code",
   "execution_count": 15,
   "id": "361c6330",
   "metadata": {
    "ExecuteTime": {
     "end_time": "2021-06-24T01:37:08.812093Z",
     "start_time": "2021-06-24T01:37:08.806286Z"
    },
    "jupyter": {
     "source_hidden": true
    }
   },
   "outputs": [
    {
     "data": {
      "text/html": [
       "<table class=\"simpletable\">\n",
       "<caption>OLS Regression Results</caption>\n",
       "<tr>\n",
       "  <th>Dep. Variable:</th>           <td>EEM</td>       <th>  R-squared:         </th> <td>   0.792</td>\n",
       "</tr>\n",
       "<tr>\n",
       "  <th>Model:</th>                   <td>OLS</td>       <th>  Adj. R-squared:    </th> <td>   0.779</td>\n",
       "</tr>\n",
       "<tr>\n",
       "  <th>Method:</th>             <td>Least Squares</td>  <th>  F-statistic:       </th> <td>   57.26</td>\n",
       "</tr>\n",
       "<tr>\n",
       "  <th>Date:</th>             <td>Thu, 29 Aug 2024</td> <th>  Prob (F-statistic):</th> <td>1.54e-50</td>\n",
       "</tr>\n",
       "<tr>\n",
       "  <th>Time:</th>                 <td>19:05:34</td>     <th>  Log-Likelihood:    </th> <td>  396.84</td>\n",
       "</tr>\n",
       "<tr>\n",
       "  <th>No. Observations:</th>      <td>   177</td>      <th>  AIC:               </th> <td>  -769.7</td>\n",
       "</tr>\n",
       "<tr>\n",
       "  <th>Df Residuals:</th>          <td>   165</td>      <th>  BIC:               </th> <td>  -731.6</td>\n",
       "</tr>\n",
       "<tr>\n",
       "  <th>Df Model:</th>              <td>    11</td>      <th>                     </th>     <td> </td>   \n",
       "</tr>\n",
       "<tr>\n",
       "  <th>Covariance Type:</th>      <td>nonrobust</td>    <th>                     </th>     <td> </td>   \n",
       "</tr>\n",
       "</table>\n",
       "<table class=\"simpletable\">\n",
       "<tr>\n",
       "    <td></td>       <th>coef</th>     <th>std err</th>      <th>t</th>      <th>P>|t|</th>  <th>[0.025</th>    <th>0.975]</th>  \n",
       "</tr>\n",
       "<tr>\n",
       "  <th>const</th> <td>    0.0022</td> <td>    0.003</td> <td>    0.864</td> <td> 0.389</td> <td>   -0.003</td> <td>    0.007</td>\n",
       "</tr>\n",
       "<tr>\n",
       "  <th>SPY</th>   <td>   -0.2677</td> <td>    0.130</td> <td>   -2.057</td> <td> 0.041</td> <td>   -0.525</td> <td>   -0.011</td>\n",
       "</tr>\n",
       "<tr>\n",
       "  <th>EFA</th>   <td>    0.5380</td> <td>    0.127</td> <td>    4.228</td> <td> 0.000</td> <td>    0.287</td> <td>    0.789</td>\n",
       "</tr>\n",
       "<tr>\n",
       "  <th>PSP</th>   <td>   -0.0290</td> <td>    0.094</td> <td>   -0.309</td> <td> 0.757</td> <td>   -0.214</td> <td>    0.156</td>\n",
       "</tr>\n",
       "<tr>\n",
       "  <th>QAI</th>   <td>    1.1934</td> <td>    0.346</td> <td>    3.446</td> <td> 0.001</td> <td>    0.510</td> <td>    1.877</td>\n",
       "</tr>\n",
       "<tr>\n",
       "  <th>HYG</th>   <td>    0.1797</td> <td>    0.156</td> <td>    1.152</td> <td> 0.251</td> <td>   -0.128</td> <td>    0.488</td>\n",
       "</tr>\n",
       "<tr>\n",
       "  <th>DBC</th>   <td>    0.0134</td> <td>    0.058</td> <td>    0.232</td> <td> 0.817</td> <td>   -0.101</td> <td>    0.128</td>\n",
       "</tr>\n",
       "<tr>\n",
       "  <th>IYR</th>   <td>    0.1034</td> <td>    0.068</td> <td>    1.511</td> <td> 0.133</td> <td>   -0.032</td> <td>    0.239</td>\n",
       "</tr>\n",
       "<tr>\n",
       "  <th>IEF</th>   <td>   -0.7395</td> <td>    0.233</td> <td>   -3.179</td> <td> 0.002</td> <td>   -1.199</td> <td>   -0.280</td>\n",
       "</tr>\n",
       "<tr>\n",
       "  <th>BWX</th>   <td>    0.5984</td> <td>    0.159</td> <td>    3.773</td> <td> 0.000</td> <td>    0.285</td> <td>    0.911</td>\n",
       "</tr>\n",
       "<tr>\n",
       "  <th>TIP</th>   <td>    0.1388</td> <td>    0.258</td> <td>    0.538</td> <td> 0.592</td> <td>   -0.371</td> <td>    0.649</td>\n",
       "</tr>\n",
       "<tr>\n",
       "  <th>SHV</th>   <td>   -1.3595</td> <td>    1.695</td> <td>   -0.802</td> <td> 0.424</td> <td>   -4.706</td> <td>    1.987</td>\n",
       "</tr>\n",
       "</table>\n",
       "<table class=\"simpletable\">\n",
       "<tr>\n",
       "  <th>Omnibus:</th>       <td> 0.780</td> <th>  Durbin-Watson:     </th> <td>   2.411</td>\n",
       "</tr>\n",
       "<tr>\n",
       "  <th>Prob(Omnibus):</th> <td> 0.677</td> <th>  Jarque-Bera (JB):  </th> <td>   0.839</td>\n",
       "</tr>\n",
       "<tr>\n",
       "  <th>Skew:</th>          <td>-0.001</td> <th>  Prob(JB):          </th> <td>   0.658</td>\n",
       "</tr>\n",
       "<tr>\n",
       "  <th>Kurtosis:</th>      <td> 2.663</td> <th>  Cond. No.          </th> <td>    848.</td>\n",
       "</tr>\n",
       "</table><br/><br/>Notes:<br/>[1] Standard Errors assume that the covariance matrix of the errors is correctly specified."
      ],
      "text/latex": [
       "\\begin{center}\n",
       "\\begin{tabular}{lclc}\n",
       "\\toprule\n",
       "\\textbf{Dep. Variable:}    &       EEM        & \\textbf{  R-squared:         } &     0.792   \\\\\n",
       "\\textbf{Model:}            &       OLS        & \\textbf{  Adj. R-squared:    } &     0.779   \\\\\n",
       "\\textbf{Method:}           &  Least Squares   & \\textbf{  F-statistic:       } &     57.26   \\\\\n",
       "\\textbf{Date:}             & Thu, 29 Aug 2024 & \\textbf{  Prob (F-statistic):} &  1.54e-50   \\\\\n",
       "\\textbf{Time:}             &     19:05:34     & \\textbf{  Log-Likelihood:    } &    396.84   \\\\\n",
       "\\textbf{No. Observations:} &         177      & \\textbf{  AIC:               } &    -769.7   \\\\\n",
       "\\textbf{Df Residuals:}     &         165      & \\textbf{  BIC:               } &    -731.6   \\\\\n",
       "\\textbf{Df Model:}         &          11      & \\textbf{                     } &             \\\\\n",
       "\\textbf{Covariance Type:}  &    nonrobust     & \\textbf{                     } &             \\\\\n",
       "\\bottomrule\n",
       "\\end{tabular}\n",
       "\\begin{tabular}{lcccccc}\n",
       "               & \\textbf{coef} & \\textbf{std err} & \\textbf{t} & \\textbf{P$> |$t$|$} & \\textbf{[0.025} & \\textbf{0.975]}  \\\\\n",
       "\\midrule\n",
       "\\textbf{const} &       0.0022  &        0.003     &     0.864  &         0.389        &       -0.003    &        0.007     \\\\\n",
       "\\textbf{SPY}   &      -0.2677  &        0.130     &    -2.057  &         0.041        &       -0.525    &       -0.011     \\\\\n",
       "\\textbf{EFA}   &       0.5380  &        0.127     &     4.228  &         0.000        &        0.287    &        0.789     \\\\\n",
       "\\textbf{PSP}   &      -0.0290  &        0.094     &    -0.309  &         0.757        &       -0.214    &        0.156     \\\\\n",
       "\\textbf{QAI}   &       1.1934  &        0.346     &     3.446  &         0.001        &        0.510    &        1.877     \\\\\n",
       "\\textbf{HYG}   &       0.1797  &        0.156     &     1.152  &         0.251        &       -0.128    &        0.488     \\\\\n",
       "\\textbf{DBC}   &       0.0134  &        0.058     &     0.232  &         0.817        &       -0.101    &        0.128     \\\\\n",
       "\\textbf{IYR}   &       0.1034  &        0.068     &     1.511  &         0.133        &       -0.032    &        0.239     \\\\\n",
       "\\textbf{IEF}   &      -0.7395  &        0.233     &    -3.179  &         0.002        &       -1.199    &       -0.280     \\\\\n",
       "\\textbf{BWX}   &       0.5984  &        0.159     &     3.773  &         0.000        &        0.285    &        0.911     \\\\\n",
       "\\textbf{TIP}   &       0.1388  &        0.258     &     0.538  &         0.592        &       -0.371    &        0.649     \\\\\n",
       "\\textbf{SHV}   &      -1.3595  &        1.695     &    -0.802  &         0.424        &       -4.706    &        1.987     \\\\\n",
       "\\bottomrule\n",
       "\\end{tabular}\n",
       "\\begin{tabular}{lclc}\n",
       "\\textbf{Omnibus:}       &  0.780 & \\textbf{  Durbin-Watson:     } &    2.411  \\\\\n",
       "\\textbf{Prob(Omnibus):} &  0.677 & \\textbf{  Jarque-Bera (JB):  } &    0.839  \\\\\n",
       "\\textbf{Skew:}          & -0.001 & \\textbf{  Prob(JB):          } &    0.658  \\\\\n",
       "\\textbf{Kurtosis:}      &  2.663 & \\textbf{  Cond. No.          } &     848.  \\\\\n",
       "\\bottomrule\n",
       "\\end{tabular}\n",
       "%\\caption{OLS Regression Results}\n",
       "\\end{center}\n",
       "\n",
       "Notes: \\newline\n",
       " [1] Standard Errors assume that the covariance matrix of the errors is correctly specified."
      ],
      "text/plain": [
       "<class 'statsmodels.iolib.summary.Summary'>\n",
       "\"\"\"\n",
       "                            OLS Regression Results                            \n",
       "==============================================================================\n",
       "Dep. Variable:                    EEM   R-squared:                       0.792\n",
       "Model:                            OLS   Adj. R-squared:                  0.779\n",
       "Method:                 Least Squares   F-statistic:                     57.26\n",
       "Date:                Thu, 29 Aug 2024   Prob (F-statistic):           1.54e-50\n",
       "Time:                        19:05:34   Log-Likelihood:                 396.84\n",
       "No. Observations:                 177   AIC:                            -769.7\n",
       "Df Residuals:                     165   BIC:                            -731.6\n",
       "Df Model:                          11                                         \n",
       "Covariance Type:            nonrobust                                         \n",
       "==============================================================================\n",
       "                 coef    std err          t      P>|t|      [0.025      0.975]\n",
       "------------------------------------------------------------------------------\n",
       "const          0.0022      0.003      0.864      0.389      -0.003       0.007\n",
       "SPY           -0.2677      0.130     -2.057      0.041      -0.525      -0.011\n",
       "EFA            0.5380      0.127      4.228      0.000       0.287       0.789\n",
       "PSP           -0.0290      0.094     -0.309      0.757      -0.214       0.156\n",
       "QAI            1.1934      0.346      3.446      0.001       0.510       1.877\n",
       "HYG            0.1797      0.156      1.152      0.251      -0.128       0.488\n",
       "DBC            0.0134      0.058      0.232      0.817      -0.101       0.128\n",
       "IYR            0.1034      0.068      1.511      0.133      -0.032       0.239\n",
       "IEF           -0.7395      0.233     -3.179      0.002      -1.199      -0.280\n",
       "BWX            0.5984      0.159      3.773      0.000       0.285       0.911\n",
       "TIP            0.1388      0.258      0.538      0.592      -0.371       0.649\n",
       "SHV           -1.3595      1.695     -0.802      0.424      -4.706       1.987\n",
       "==============================================================================\n",
       "Omnibus:                        0.780   Durbin-Watson:                   2.411\n",
       "Prob(Omnibus):                  0.677   Jarque-Bera (JB):                0.839\n",
       "Skew:                          -0.001   Prob(JB):                        0.658\n",
       "Kurtosis:                       2.663   Cond. No.                         848.\n",
       "==============================================================================\n",
       "\n",
       "Notes:\n",
       "[1] Standard Errors assume that the covariance matrix of the errors is correctly specified.\n",
       "\"\"\""
      ]
     },
     "execution_count": 15,
     "metadata": {},
     "output_type": "execute_result"
    }
   ],
   "source": [
    "T1 = '2023'\n",
    "T2 = '2024'\n",
    "TICKrep = 'EEM'\n",
    "\n",
    "rets_IS = rets.loc[:T1,:]\n",
    "\n",
    "X = sm.add_constant(rets_IS.drop(columns=TICKrep))\n",
    "y = rets_IS[[TICKrep]]\n",
    "mod_replicate = sm.OLS(y, X).fit()\n",
    "mod_replicate.summary()"
   ]
  },
  {
   "cell_type": "markdown",
   "id": "edf9133b",
   "metadata": {},
   "source": [
    "### The R-squared is reported in the table above.\n",
    "\n",
    "Note that while we can estimate an R-squared, it doesn't make much sense in a regression without an intercept. \n",
    "- It does not need to be between 0 and 1.\n",
    "\n",
    "The stats-models Python package puts a \"Note\" at the bottom of the table above reminding users of that fact."
   ]
  },
  {
   "cell_type": "markdown",
   "id": "89b8d8cf",
   "metadata": {},
   "source": [
    "### See the t-stats below, in descending order:"
   ]
  },
  {
   "cell_type": "code",
   "execution_count": 16,
   "id": "c1a9857e",
   "metadata": {
    "jupyter": {
     "source_hidden": true
    }
   },
   "outputs": [
    {
     "data": {
      "text/html": [
       "<style type=\"text/css\">\n",
       "</style>\n",
       "<table id=\"T_e5216\">\n",
       "  <thead>\n",
       "    <tr>\n",
       "      <th class=\"blank level0\" >&nbsp;</th>\n",
       "      <th id=\"T_e5216_level0_col0\" class=\"col_heading level0 col0\" >EFA</th>\n",
       "      <th id=\"T_e5216_level0_col1\" class=\"col_heading level0 col1\" >BWX</th>\n",
       "      <th id=\"T_e5216_level0_col2\" class=\"col_heading level0 col2\" >QAI</th>\n",
       "      <th id=\"T_e5216_level0_col3\" class=\"col_heading level0 col3\" >IYR</th>\n",
       "      <th id=\"T_e5216_level0_col4\" class=\"col_heading level0 col4\" >HYG</th>\n",
       "      <th id=\"T_e5216_level0_col5\" class=\"col_heading level0 col5\" >const</th>\n",
       "      <th id=\"T_e5216_level0_col6\" class=\"col_heading level0 col6\" >TIP</th>\n",
       "      <th id=\"T_e5216_level0_col7\" class=\"col_heading level0 col7\" >DBC</th>\n",
       "      <th id=\"T_e5216_level0_col8\" class=\"col_heading level0 col8\" >PSP</th>\n",
       "      <th id=\"T_e5216_level0_col9\" class=\"col_heading level0 col9\" >SHV</th>\n",
       "      <th id=\"T_e5216_level0_col10\" class=\"col_heading level0 col10\" >SPY</th>\n",
       "      <th id=\"T_e5216_level0_col11\" class=\"col_heading level0 col11\" >IEF</th>\n",
       "    </tr>\n",
       "  </thead>\n",
       "  <tbody>\n",
       "    <tr>\n",
       "      <th id=\"T_e5216_level0_row0\" class=\"row_heading level0 row0\" >t-stats</th>\n",
       "      <td id=\"T_e5216_row0_col0\" class=\"data row0 col0\" >4.2</td>\n",
       "      <td id=\"T_e5216_row0_col1\" class=\"data row0 col1\" >3.8</td>\n",
       "      <td id=\"T_e5216_row0_col2\" class=\"data row0 col2\" >3.4</td>\n",
       "      <td id=\"T_e5216_row0_col3\" class=\"data row0 col3\" >1.5</td>\n",
       "      <td id=\"T_e5216_row0_col4\" class=\"data row0 col4\" >1.2</td>\n",
       "      <td id=\"T_e5216_row0_col5\" class=\"data row0 col5\" >0.9</td>\n",
       "      <td id=\"T_e5216_row0_col6\" class=\"data row0 col6\" >0.5</td>\n",
       "      <td id=\"T_e5216_row0_col7\" class=\"data row0 col7\" >0.2</td>\n",
       "      <td id=\"T_e5216_row0_col8\" class=\"data row0 col8\" >-0.3</td>\n",
       "      <td id=\"T_e5216_row0_col9\" class=\"data row0 col9\" >-0.8</td>\n",
       "      <td id=\"T_e5216_row0_col10\" class=\"data row0 col10\" >-2.1</td>\n",
       "      <td id=\"T_e5216_row0_col11\" class=\"data row0 col11\" >-3.2</td>\n",
       "    </tr>\n",
       "  </tbody>\n",
       "</table>\n"
      ],
      "text/plain": [
       "<pandas.io.formats.style.Styler at 0x1d08d754b60>"
      ]
     },
     "execution_count": 16,
     "metadata": {},
     "output_type": "execute_result"
    }
   ],
   "source": [
    "mod_replicate.tvalues.sort_values(ascending=False).to_frame().rename(columns={0:'t-stats'}).T.style.format('{:.1f}')"
   ]
  },
  {
   "cell_type": "code",
   "execution_count": 17,
   "id": "8022080d",
   "metadata": {
    "jupyter": {
     "source_hidden": true
    }
   },
   "outputs": [
    {
     "data": {
      "image/png": "[encoded data removed]",
      "text/plain": [
       "<Figure size 1200x500 with 1 Axes>"
      ]
     },
     "metadata": {},
     "output_type": "display_data"
    }
   ],
   "source": [
    "pd.concat([y, mod_replicate.fittedvalues.rename('IS Replication')], axis=1).plot(figsize=(12, 5))\n",
    "plt.show()"
   ]
  },
  {
   "cell_type": "markdown",
   "id": "91f417bb",
   "metadata": {},
   "source": [
    "## 2.3"
   ]
  },
  {
   "cell_type": "code",
   "execution_count": 18,
   "id": "c91f5ce1",
   "metadata": {
    "ExecuteTime": {
     "end_time": "2021-06-24T01:37:08.826712Z",
     "start_time": "2021-06-24T01:37:08.822348Z"
    },
    "jupyter": {
     "source_hidden": true
    }
   },
   "outputs": [],
   "source": [
    "reg = LinearRegression(fit_intercept=True).fit(X,y)\n",
    "fit_comp_IS = pd.concat([y,pd.DataFrame(reg.predict(X),index=y.index)],axis=1).rename(columns={0:'IS'})\n",
    "corr_IS = fit_comp_IS.corr().iloc[0,1]"
   ]
  },
  {
   "cell_type": "code",
   "execution_count": 19,
   "id": "83a05412",
   "metadata": {
    "jupyter": {
     "source_hidden": true
    }
   },
   "outputs": [],
   "source": [
    "rets_OOS = rets.loc[T2:,:]\n",
    "X = sm.add_constant(rets_OOS.drop(columns=TICKrep))\n",
    "y = rets_OOS[[TICKrep]]\n",
    "\n",
    "fit_comp_OOS = pd.concat([y,pd.DataFrame(reg.predict(X),index=y.index)],axis=1).rename(columns={0:'OOS'})\n",
    "corr_OOS = fit_comp_OOS.corr().iloc[0,1]"
   ]
  },
  {
   "cell_type": "code",
   "execution_count": 20,
   "id": "a49649a4",
   "metadata": {
    "jupyter": {
     "source_hidden": true
    }
   },
   "outputs": [
    {
     "name": "stdout",
     "output_type": "stream",
     "text": [
      "Correlation between EEM and Replicating Portfolio\n",
      "In-Sample: 89.0%\n",
      "Out-of-Sample: 90.4%\n"
     ]
    }
   ],
   "source": [
    "print(f'Correlation between {TICKrep} and Replicating Portfolio')\n",
    "print(f'In-Sample: {corr_IS:.1%}')\n",
    "print(f'Out-of-Sample: {corr_OOS:.1%}')"
   ]
  },
  {
   "cell_type": "code",
   "execution_count": 17,
   "id": "cb6df89c",
   "metadata": {
    "jupyter": {
     "source_hidden": true
    }
   },
   "outputs": [
    {
     "data": {
      "image/png": "[encoded data removed]",
      "text/plain": [
       "<Figure size 1200x500 with 1 Axes>"
      ]
     },
     "metadata": {},
     "output_type": "display_data"
    }
   ],
   "source": [
    "fit_comp_OOS.plot(figsize=(12, 5))\n",
    "plt.show()"
   ]
  }
 ],
 "metadata": {
  "hide_input": true,
  "kernelspec": {
   "display_name": "Python 3 (ipykernel)",
   "language": "python",
   "name": "python3"
  },
  "language_info": {
   "codemirror_mode": {
    "name": "ipython",
    "version": 3
   },
   "file_extension": ".py",
   "mimetype": "text/x-python",
   "name": "python",
   "nbconvert_exporter": "python",
   "pygments_lexer": "ipython3",
   "version": "3.12.4"
  },
  "toc": {
   "base_numbering": 1,
   "nav_menu": {},
   "number_sections": false,
   "sideBar": true,
   "skip_h1_title": false,
   "title_cell": "Table of Contents",
   "title_sidebar": "Contents",
   "toc_cell": false,
   "toc_position": {},
   "toc_section_display": true,
   "toc_window_display": false
  },
  "varInspector": {
   "cols": {
    "lenName": 16,
    "lenType": 16,
    "lenVar": 40
   },
   "kernels_config": {
    "python": {
     "delete_cmd_postfix": "",
     "delete_cmd_prefix": "del ",
     "library": "var_list.py",
     "varRefreshCmd": "print(var_dic_list())"
    },
    "r": {
     "delete_cmd_postfix": ") ",
     "delete_cmd_prefix": "rm(",
     "library": "var_list.r",
     "varRefreshCmd": "cat(var_dic_list()) "
    }
   },
   "types_to_exclude": [
    "module",
    "function",
    "builtin_function_or_method",
    "instance",
    "_Feature"
   ],
   "window_display": false
  }
 },
 "nbformat": 4,
 "nbformat_minor": 5
}
